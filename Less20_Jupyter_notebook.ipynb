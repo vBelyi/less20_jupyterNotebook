{
 "cells": [
  {
   "cell_type": "markdown",
   "id": "2f742ac7",
   "metadata": {},
   "source": [
    "|year|rank|company              |revenue|profit|\n",
    "|:---|:---|:--------------------|:------|:-----|\n",
    "|1955|229 |Norton               |135.0  |N.A.  |\n",
    "|1955|291 |Schlitz Brewing      |100.0  |N.A.  |\n",
    "|1955|295 |Pacific Vegetable Oil|97.9   |N.A.  |\n",
    "|1955|297 |Liebmann Breweries   |96.0   |N.A.  |\n",
    "|1955|353 |Minneapolis-Moline   |77.4   |N.A.  |"
   ]
  },
  {
   "cell_type": "code",
   "execution_count": 5,
   "id": "689b3eb5",
   "metadata": {
    "scrolled": true
   },
   "outputs": [
    {
     "data": {
      "text/html": [
       "<style>\n",
       "table {\n",
       "  border: 1px solid black;\n",
       "  border-collapse: collapse;\n",
       "}\n",
       "th, td {\n",
       "  border: 1px solid black;\n",
       "  padding: 5px;\n",
       "}\n",
       "</style>\n",
       "<table>\n",
       "  <tr>\n",
       "    <th style=\"text-align:left\">year</th>\n",
       "    <th style=\"text-align:left\">rank</th>\n",
       "    <th style=\"text-align:left\">company</th>\n",
       "    <th style=\"text-align:left\">revenue</th>\n",
       "    <th style=\"text-align:left\">profit</th>\n",
       "  </tr>\n",
       "  <tr>\n",
       "    <td style=\"text-align:left\">1955</td>\n",
       "    <td style=\"text-align:left\">229</td>\n",
       "    <td style=\"text-align:left\">Norton</td>\n",
       "    <td style=\"text-align:left\">135.0</td>\n",
       "    <td style=\"text-align:left\">N.A.</td>\n",
       "  </tr>\n",
       "  <tr>\n",
       "    <td style=\"text-align:left\">1955</td>\n",
       "    <td style=\"text-align:left\">291</td>\n",
       "    <td style=\"text-align:left\">Schlitz Brewing</td>\n",
       "    <td style=\"text-align:left\">100.0</td>\n",
       "    <td style=\"text-align:left\">N.A.</td>\n",
       "  </tr>\n",
       "  <tr>\n",
       "    <td style=\"text-align:left\">1955</td>\n",
       "    <td style=\"text-align:left\">295</td>\n",
       "    <td style=\"text-align:left\">Pacific Vegetable Oil</td>\n",
       "    <td style=\"text-align:left\">97.9</td>\n",
       "    <td style=\"text-align:left\">N.A.</td>\n",
       "  </tr>\n",
       "  <tr>\n",
       "    <td style=\"text-align:left\">1955</td>\n",
       "    <td style=\"text-align:left\">297</td>\n",
       "    <td style=\"text-align:left\">Liebmann Breweries</td>\n",
       "    <td style=\"text-align:left\">96.0</td>\n",
       "    <td style=\"text-align:left\">N.A.</td>\n",
       "  </tr>\n",
       "  <tr>\n",
       "    <td style=\"text-align:left\">1955</td>\n",
       "    <td style=\"text-align:left\">353</td>\n",
       "    <td style=\"text-align:left\">Minneapolis-Moline</td>\n",
       "    <td style=\"text-align:left\">77.4</td>\n",
       "    <td style=\"text-align:left\">N.A.</td>\n",
       "  </tr>\n",
       "</table>\n"
      ],
      "text/plain": [
       "<IPython.core.display.HTML object>"
      ]
     },
     "metadata": {},
     "output_type": "display_data"
    }
   ],
   "source": [
    "%%html\n",
    "<style>\n",
    "table {\n",
    "  border: 1px solid black;\n",
    "  border-collapse: collapse;\n",
    "}\n",
    "th, td {\n",
    "  border: 1px solid black;\n",
    "  padding: 5px;\n",
    "}\n",
    "</style>\n",
    "<table>\n",
    "  <tr>\n",
    "    <th style=\"text-align:left\">year</th>\n",
    "    <th style=\"text-align:left\">rank</th>\n",
    "    <th style=\"text-align:left\">company</th>\n",
    "    <th style=\"text-align:left\">revenue</th>\n",
    "    <th style=\"text-align:left\">profit</th>\n",
    "  </tr>\n",
    "  <tr>\n",
    "    <td style=\"text-align:left\">1955</td>\n",
    "    <td style=\"text-align:left\">229</td>\n",
    "    <td style=\"text-align:left\">Norton</td>\n",
    "    <td style=\"text-align:left\">135.0</td>\n",
    "    <td style=\"text-align:left\">N.A.</td>\n",
    "  </tr>\n",
    "  <tr>\n",
    "    <td style=\"text-align:left\">1955</td>\n",
    "    <td style=\"text-align:left\">291</td>\n",
    "    <td style=\"text-align:left\">Schlitz Brewing</td>\n",
    "    <td style=\"text-align:left\">100.0</td>\n",
    "    <td style=\"text-align:left\">N.A.</td>\n",
    "  </tr>\n",
    "  <tr>\n",
    "    <td style=\"text-align:left\">1955</td>\n",
    "    <td style=\"text-align:left\">295</td>\n",
    "    <td style=\"text-align:left\">Pacific Vegetable Oil</td>\n",
    "    <td style=\"text-align:left\">97.9</td>\n",
    "    <td style=\"text-align:left\">N.A.</td>\n",
    "  </tr>\n",
    "  <tr>\n",
    "    <td style=\"text-align:left\">1955</td>\n",
    "    <td style=\"text-align:left\">297</td>\n",
    "    <td style=\"text-align:left\">Liebmann Breweries</td>\n",
    "    <td style=\"text-align:left\">96.0</td>\n",
    "    <td style=\"text-align:left\">N.A.</td>\n",
    "  </tr>\n",
    "  <tr>\n",
    "    <td style=\"text-align:left\">1955</td>\n",
    "    <td style=\"text-align:left\">353</td>\n",
    "    <td style=\"text-align:left\">Minneapolis-Moline</td>\n",
    "    <td style=\"text-align:left\">77.4</td>\n",
    "    <td style=\"text-align:left\">N.A.</td>\n",
    "  </tr>\n",
    "</table>"
   ]
  },
  {
   "cell_type": "code",
   "execution_count": 1,
   "id": "1b55a8b0",
   "metadata": {},
   "outputs": [],
   "source": [
    "import random\n",
    "import time\n",
    "from random_words import RandomWords\n",
    "\n",
    "#створюэмо списки\n",
    "int_list = [random.randint(0, 1000) for i in range(5000)]\n",
    "float_list = [random.uniform(0.1, 100.0) for i in range(5000)]\n",
    "rw = RandomWords()\n",
    "str_list = rw.random_words(count=5000)\n",
    "\n",
    "#створюжмо функцію сортування (сортування вставками)\n",
    "def insertion_sort(list):\n",
    "    #count = 0\n",
    "    for i in range(1, len(list)):\n",
    "        for j in range(i,0,-1):\n",
    "            if list[j] < list[j-1]:\n",
    "                list[j], list[j-1] = list[j-1], list[j]\n",
    "                #count +=1\n",
    "            else:\n",
    "                break\n",
    "    return list"
   ]
  },
  {
   "cell_type": "code",
   "execution_count": 2,
   "id": "dbf3cfad",
   "metadata": {},
   "outputs": [
    {
     "name": "stdout",
     "output_type": "stream",
     "text": [
      "818 µs ± 37.3 µs per loop (mean ± std. dev. of 7 runs, 1 loop each)\n"
     ]
    }
   ],
   "source": [
    "%%timeit\n",
    "insertion_sort(int_list)"
   ]
  },
  {
   "cell_type": "code",
   "execution_count": 3,
   "id": "4f3b6a6a",
   "metadata": {},
   "outputs": [
    {
     "name": "stdout",
     "output_type": "stream",
     "text": [
      "837 µs ± 78.3 µs per loop (mean ± std. dev. of 7 runs, 1 loop each)\n"
     ]
    }
   ],
   "source": [
    "%%timeit\n",
    "insertion_sort(float_list)"
   ]
  },
  {
   "cell_type": "code",
   "execution_count": 4,
   "id": "3ab44d0b",
   "metadata": {},
   "outputs": [
    {
     "name": "stdout",
     "output_type": "stream",
     "text": [
      "890 µs ± 8.79 µs per loop (mean ± std. dev. of 7 runs, 1 loop each)\n"
     ]
    }
   ],
   "source": [
    "%%timeit\n",
    "insertion_sort(str_list)"
   ]
  },
  {
   "cell_type": "code",
   "execution_count": null,
   "id": "a123ac4b",
   "metadata": {},
   "outputs": [],
   "source": []
  }
 ],
 "metadata": {
  "kernelspec": {
   "display_name": "Python 3 (ipykernel)",
   "language": "python",
   "name": "python3"
  },
  "language_info": {
   "codemirror_mode": {
    "name": "ipython",
    "version": 3
   },
   "file_extension": ".py",
   "mimetype": "text/x-python",
   "name": "python",
   "nbconvert_exporter": "python",
   "pygments_lexer": "ipython3",
   "version": "3.9.13"
  }
 },
 "nbformat": 4,
 "nbformat_minor": 5
}
